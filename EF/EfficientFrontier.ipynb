{
 "cells": [
  {
   "cell_type": "code",
   "execution_count": 1,
   "metadata": {},
   "outputs": [],
   "source": [
    "import os\n",
    "import sys\n",
    "import numpy as np\n",
    "import pandas as pd\n",
    "import scipy.optimize as sc\n",
    "import plotly.graph_objects as go\n",
    "import yfinance as yfin\n",
    "from pandas_datareader import data as pdr\n",
    "from statistics import stdev"
   ]
  },
  {
   "cell_type": "code",
   "execution_count": 6,
   "metadata": {},
   "outputs": [],
   "source": [
    "# Line required for pdr.get_data_yahoo() to function properly\n",
    "yfin.pdr_override()\n",
    "\n",
    "# Get the tickers of current S&P500 stock list on Wikipedia\n",
    "stockInfo = pd.read_html('https://en.wikipedia.org/wiki/List_of_S%26P_500_companies')[0]\n",
    "tickers_np = stockInfo['Symbol'].to_numpy()\n",
    "\n",
    "# Exclude stocks that do not have full data during analysis period\n",
    "excludeStocks = np.array(['VLTO', 'BF.B', 'BRK.B', 'ABNB', 'CARR', 'KVUE', 'GEHC', 'OTIS', 'CEG', 'RHI', 'CTLT'])\n",
    "stockList = [stock for stock in tickers_np[:50] if stock not in excludeStocks]\n",
    "\n",
    "# Number of trading days durnig a fiscal year\n",
    "NB_TRADING_DAYS_PER_YEAR = 252\n",
    "\n",
    "# Indicate the minimum & maximum weight for each stock in portfolio: between 0 and 10%\n",
    "constraintSet = (0, 0.1)\n",
    "\n",
    "# Start & end dates of the analysed period\n",
    "startDate = '2019-01-01'\n",
    "endDate = '2021-12-31'"
   ]
  },
  {
   "cell_type": "code",
   "execution_count": 7,
   "metadata": {},
   "outputs": [],
   "source": [
    "# Get stocks' adjusted closing prices & calculate covariance matrix\n",
    "# The adjusted closing price includes anything that would affect the stock price (stock splits, dividends...)\n",
    "def getData(stocks: list, start: str, end: str):\n",
    "    \n",
    "    stockPricesDf = pdr.get_data_yahoo(stocks, start=start, end=end)\n",
    "    stockPricesDf = stockPricesDf['Adj Close']\n",
    "\n",
    "    # Exclude columns that have at least one missing stock price\n",
    "    stockPricesDf = stockPricesDf.dropna(axis='columns', how='any')\n",
    "\n",
    "    dailyStockPriceChanges = stockPricesDf.pct_change(fill_method=None)\n",
    "    covMatrixDf = dailyStockPriceChanges.cov()\n",
    "\n",
    "    return stockPricesDf, covMatrixDf"
   ]
  },
  {
   "cell_type": "code",
   "execution_count": 8,
   "metadata": {},
   "outputs": [],
   "source": [
    "# Calculate annualised stock return over a specific period\n",
    "def stockAnnualisedReturn(stockPricesDf: pd.Series):\n",
    "        \n",
    "    initialPrice = stockPricesDf.iloc[0]\n",
    "    finalPrice = stockPricesDf.iloc[-1]\n",
    "    totalReturn = (finalPrice - initialPrice) / initialPrice\n",
    "    annualisedStockReturn = totalReturn * NB_TRADING_DAYS_PER_YEAR / len(stockPricesDf)\n",
    "    annualisedStockReturn = round(annualisedStockReturn*100,2)\n",
    "    return annualisedStockReturn"
   ]
  },
  {
   "cell_type": "code",
   "execution_count": 9,
   "metadata": {},
   "outputs": [],
   "source": [
    "# Calculate annualised stock variance over a specific period\n",
    "def stockAnnualisedVariance(stockPricesDf: pd.Series):\n",
    "\n",
    "    # Daily percentage changes in stock price\n",
    "    dailyStockPriceChanges = stockPricesDf.pct_change(fill_method=None)\n",
    "\n",
    "    # Daily stock price volatility\n",
    "    dailyVolatility = stdev(dailyStockPriceChanges[1:])\n",
    "    annualisedDailyVolatilityInTradingDays = dailyVolatility * np.sqrt(NB_TRADING_DAYS_PER_YEAR)\n",
    "    \n",
    "    annualisedDailyVolatilityInTradingDays = round(annualisedDailyVolatilityInTradingDays*100,2)\n",
    "    return annualisedDailyVolatilityInTradingDays"
   ]
  },
  {
   "cell_type": "code",
   "execution_count": 10,
   "metadata": {},
   "outputs": [],
   "source": [
    "# Calculate portfolio annualised return over a specific period\n",
    "def portfolioAnnualisedReturn(weights: np.ndarray, stockPricesDf: pd.DataFrame):\n",
    "    \n",
    "    annualisedPortfolioReturn = 0\n",
    "    annualisedReturnsPerStock_array = []\n",
    "    for stock in stockPricesDf:\n",
    "\n",
    "        # For each stock, calculate annualised return over all period of stockPricesDf\n",
    "        initialPrice = stockPricesDf[stock].iloc[0]\n",
    "        finalPrice = stockPricesDf[stock].iloc[-1]\n",
    "        totalReturn = (finalPrice - initialPrice) / initialPrice\n",
    "        annualisedReturnsPerStock_array.append(totalReturn * NB_TRADING_DAYS_PER_YEAR / len(stockPricesDf))\n",
    "\n",
    "    # Calculate annualised portfolio return\n",
    "    for w, r in zip(weights, annualisedReturnsPerStock_array): annualisedPortfolioReturn += w * r\n",
    "    return annualisedPortfolioReturn"
   ]
  },
  {
   "cell_type": "code",
   "execution_count": 11,
   "metadata": {},
   "outputs": [],
   "source": [
    "# Calculate portfolio annualised variance over a specific period\n",
    "def portfolioAnnualisedVariance(weights: np.ndarray, covMatrixDf: pd.DataFrame):\n",
    "\n",
    "    # Calculate portfolio annualised daily volatility (in trading days)\n",
    "    pAannualisedDailyVolatilityInTradingDays = 0\n",
    "    pAannualisedDailyVolatilityInTradingDays = np.sqrt(np.dot(weights.T, np.dot(covMatrixDf, weights)))*np.sqrt(NB_TRADING_DAYS_PER_YEAR)\n",
    "    \n",
    "    return pAannualisedDailyVolatilityInTradingDays"
   ]
  },
  {
   "cell_type": "code",
   "execution_count": 12,
   "metadata": {},
   "outputs": [],
   "source": [
    "# For each returnTarget, Minimise variance by altering the weights of the portfolio\n",
    "def efficientOpt(stockPricesDf: pd.DataFrame, covMatrixDf: pd.DataFrame, returnTarget: float):\n",
    "\n",
    "    numAssets = len(stockPricesDf.columns)\n",
    "    args = (covMatrixDf)\n",
    "    constraints = ({'type':'eq', 'fun': lambda x: portfolioAnnualisedReturn(x, stockPricesDf) - returnTarget},\n",
    "                    {'type': 'eq', 'fun': lambda x: np.sum(x) - 1})\n",
    "    bounds = tuple(constraintSet for asset in range(numAssets))\n",
    "    optimalPortfolio = sc.minimize(portfolioAnnualisedVariance, numAssets*[1./numAssets], \n",
    "                                   args=args, method = 'SLSQP', bounds=bounds, constraints=constraints)\n",
    "\n",
    "    return optimalPortfolio"
   ]
  },
  {
   "cell_type": "code",
   "execution_count": 13,
   "metadata": {},
   "outputs": [],
   "source": [
    "# Calculate negative Sharpe ratio of the overall portfolio\n",
    "def negativeSR(weights: np.ndarray, stockPricesDf: pd.DataFrame, covMatrixDf: pd.DataFrame):\n",
    "\n",
    "    pAnnualisedReturn = portfolioAnnualisedReturn(weights, stockPricesDf)\n",
    "    pAannualisedDailyVolatilityInTradingDays = portfolioAnnualisedVariance(weights, covMatrixDf)\n",
    "    return - pAnnualisedReturn / pAannualisedDailyVolatilityInTradingDays"
   ]
  },
  {
   "cell_type": "code",
   "execution_count": 14,
   "metadata": {},
   "outputs": [],
   "source": [
    "# Maximise Sharpe ratio by altering the weights of the portfolio\n",
    "def maximiseSR(stockPricesDf: pd.DataFrame, covMatrixDf: pd.DataFrame):\n",
    "\n",
    "    numAssets = len(stockPricesDf.columns)\n",
    "    args = (stockPricesDf, covMatrixDf)\n",
    "    constraints = ({'type': 'eq', 'fun': lambda x: np.sum(x) - 1})\n",
    "    bounds = tuple(constraintSet for asset in range(numAssets))\n",
    "\n",
    "    # initial guess of asset optimal weights is equal distribution of assets\n",
    "    maxSRportfolio = sc.minimize(negativeSR, numAssets*[1./numAssets],\n",
    "                                 args=args, method='SLSQP', bounds=bounds, constraints=constraints)\n",
    "    return maxSRportfolio"
   ]
  },
  {
   "cell_type": "code",
   "execution_count": 15,
   "metadata": {},
   "outputs": [],
   "source": [
    "# Maximise Sharpe ratio by altering the weights of the portfolio\n",
    "def maximiseSR(stockPricesDf: pd.DataFrame, covMatrixDf: pd.DataFrame):\n",
    "\n",
    "    numAssets = len(stockPricesDf.columns)\n",
    "    args = (stockPricesDf, covMatrixDf)\n",
    "    constraints = ({'type': 'eq', 'fun': lambda x: np.sum(x) - 1})\n",
    "    bounds = tuple(constraintSet for asset in range(numAssets))\n",
    "\n",
    "    # initial guess of asset optimal weights is equal distribution of assets\n",
    "    maxSRportfolio = sc.minimize(negativeSR, numAssets*[1./numAssets],\n",
    "                                 args=args, method='SLSQP', bounds=bounds, constraints=constraints)\n",
    "    return maxSRportfolio"
   ]
  },
  {
   "cell_type": "code",
   "execution_count": 16,
   "metadata": {},
   "outputs": [],
   "source": [
    "# Minimise variance by altering the weights of the portfolio\n",
    "def minimizeVariance(stockPricesDf: pd.DataFrame, covMatrixDf: pd.DataFrame):\n",
    "\n",
    "    numAssets = len(stockPricesDf.columns)\n",
    "    args = (covMatrixDf)\n",
    "    constraints = ({'type': 'eq', 'fun': lambda x: np.sum(x) - 1})\n",
    "    bounds = tuple(constraintSet for asset in range(numAssets))\n",
    "\n",
    "    # initial guess of asset optimal weights is equal distribution of assets\n",
    "    minVolPortfolio = sc.minimize(portfolioAnnualisedVariance, numAssets*[1./numAssets],\n",
    "                                  args=args, method='SLSQP', bounds=bounds, constraints=constraints)\n",
    "    return minVolPortfolio"
   ]
  },
  {
   "cell_type": "code",
   "execution_count": 17,
   "metadata": {},
   "outputs": [],
   "source": [
    "# Function to remove elements from the start and end of the array if they have the same value\n",
    "def removeDuplicateEnds(x_list, y_list):\n",
    "    start, end = 0, len(x_list) - 1\n",
    "\n",
    "    # Remove duplicates from the start\n",
    "    while start < end and round(x_list[start], 4) == round(x_list[start + 1], 4):\n",
    "        start += 1\n",
    "\n",
    "    # Remove duplicates from the end\n",
    "    while end > start and round(x_list[end], 4) == round(x_list[end - 1], 4):\n",
    "        end -= 1\n",
    "\n",
    "    # Slicing the arrays to exclude the duplicate elements\n",
    "    return x_list[start:end + 1], y_list[start:end + 1]"
   ]
  },
  {
   "cell_type": "code",
   "execution_count": 18,
   "metadata": {},
   "outputs": [],
   "source": [
    "# Return a graph ploting the min volatility, max SR and efficient frontier\n",
    "def efficientFrontierGraph(\n",
    "        maxSR_return: float, maxSR_std: float, \n",
    "        minVol_return: float, minVol_std: float, \n",
    "        volatilityPerTargetReturn: list, targetReturns: np.ndarray,\n",
    "        stocksReturns: list, stocksStd: list\n",
    "    ):\n",
    "\n",
    "    # Maximum Sharpe ratio portfolio\n",
    "    MaxSharpeRatio = go.Scatter(\n",
    "        name='Maximium Sharpe ratio',\n",
    "        mode='markers',\n",
    "        x=[maxSR_std],\n",
    "        y=[maxSR_return],\n",
    "        marker=dict(color='red',size=14,line=dict(width=3, color='black'))\n",
    "    )\n",
    "\n",
    "    # Minimum volatility portfolio\n",
    "    MinVol = go.Scatter(\n",
    "        name='Mininium Volatility',\n",
    "        mode='markers',\n",
    "        x=[minVol_std],\n",
    "        y=[minVol_return],\n",
    "        marker=dict(color='green',size=14,line=dict(width=3, color='black'))\n",
    "    )\n",
    "\n",
    "    # Efficient Frontier\n",
    "    EF_curve = go.Scatter(\n",
    "        name='Efficient Frontier',\n",
    "        mode='lines',\n",
    "        x=[round(ef_std*100, 2) for ef_std in volatilityPerTargetReturn],\n",
    "        y=[round(target*100, 2) for target in targetReturns],\n",
    "        line=dict(color='black', width=3, dash='dot')\n",
    "    )\n",
    "\n",
    "    data = [EF_curve, MaxSharpeRatio, MinVol]\n",
    "    layout = go.Layout(\n",
    "        title = 'Portfolio Optimisation - Efficient Frontier, '+str(len(stockList))+' stocks, ('+startDate+' to '+endDate+')',\n",
    "        yaxis = dict(title='Annualised Return (%)'),\n",
    "        xaxis = dict(title='Annualised Daily Volatility (in trading days) (%)'),\n",
    "        showlegend = True,\n",
    "        legend = dict(\n",
    "            x = 0.75, y = 0, traceorder='normal',\n",
    "            bgcolor='#E2E2E2',\n",
    "            bordercolor='black',\n",
    "            borderwidth=2),\n",
    "        width=1400,\n",
    "        height=600)\n",
    "\n",
    "    # One marker per stock\n",
    "    for i in range(len(stockList)):\n",
    "        StockMarker = go.Scatter(\n",
    "            name=stockList[i],\n",
    "            mode='markers',\n",
    "            x=[stocksStd[i]],\n",
    "            y=[stocksReturns[i]],\n",
    "            marker=dict(color='#d1c7c7',size=9,line=dict(width=1, color='#d1c7c7'))\n",
    "        )\n",
    "        data.append(StockMarker)\n",
    "\n",
    "    fig = go.Figure(data=data, layout=layout)\n",
    "    return fig.show()"
   ]
  },
  {
   "cell_type": "code",
   "execution_count": 19,
   "metadata": {},
   "outputs": [
    {
     "name": "stdout",
     "output_type": "stream",
     "text": [
      "[*********************100%***********************]  49 of 49 completed\n"
     ]
    }
   ],
   "source": [
    "# Get stock prices & calculate covariance matrix\n",
    "stockPrices, covMatrix = getData(stockList, start=startDate, end=endDate)\n",
    "stockList = stockPrices.columns\n",
    "\n",
    "# Calculate return & volatility of each stock\n",
    "stocksReturns = list()\n",
    "stocksStd = list()\n",
    "for stock in stockList:\n",
    "\n",
    "    annualisedReturn = stockAnnualisedReturn(stockPrices[stock])\n",
    "    annualisedDailyVolatilityInTradingDays = stockAnnualisedVariance(stockPrices[stock])\n",
    "    stocksReturns.append(annualisedReturn)\n",
    "    stocksStd.append(annualisedDailyVolatilityInTradingDays)"
   ]
  },
  {
   "cell_type": "code",
   "execution_count": 20,
   "metadata": {},
   "outputs": [
    {
     "name": "stdout",
     "output_type": "stream",
     "text": [
      "\n",
      "Optimal portfolio composition to maximise the Sharpe ratio:\n",
      "\n",
      "\t GOOG : 10.0 %\n",
      "\t AMAT : 10.0 %\n",
      "\t ACN : 10.0 %\n",
      "\t AAPL : 10.0 %\n",
      "\t AJG : 10.0 %\n",
      "\t AMD : 10.0 %\n",
      "\t AWK : 10.0 %\n",
      "\t A : 7.65 %\n",
      "\t GOOGL : 6.71 %\n",
      "\t AOS : 6.26 %\n",
      "\t AON : 4.11 %\n",
      "\t AKAM : 4.0 %\n",
      "\t ALB : 1.27 %\n",
      "\t APA : 0.0 %\n",
      "\t ANSS : 0.0 %\n",
      "\t ALGN : 0.0 %\n",
      "\t ADI : 0.0 %\n",
      "\t ADSK : 0.0 %\n",
      "\t AAL : 0.0 %\n",
      "\t ADBE : 0.0 %\n",
      "\t AMP : 0.0 %\n",
      "\t ANET : 0.0 %\n",
      "\t AXP : 0.0 %\n",
      "\t AIG : 0.0 %\n",
      "\t APTV : 0.0 %\n",
      "\t ACGL : 0.0 %\n",
      "\t APH : 0.0 %\n",
      "\t AFL : 0.0 %\n",
      "\t ALLE : 0.0 %\n",
      "\t AES : 0.0 %\n",
      "\t AME : 0.0 %\n",
      "\t AMZN : 0.0 %\n",
      "\t AMGN : 0.0 %\n",
      "\t ATO : 0.0 %\n",
      "\t MMM : 0.0 %\n",
      "\t MO : 0.0 %\n",
      "\t LNT : 0.0 %\n",
      "\t ARE : 0.0 %\n",
      "\t AMCR : 0.0 %\n",
      "\t APD : 0.0 %\n",
      "\t AMT : 0.0 %\n",
      "\t ALL : 0.0 %\n",
      "\t AIZ : 0.0 %\n",
      "\t AEP : 0.0 %\n",
      "\t AEE : 0.0 %\n",
      "\t ADM : 0.0 %\n",
      "\t ABT : 0.0 %\n",
      "\t ABBV : 0.0 %\n",
      "\t T : 0.0 %\n"
     ]
    }
   ],
   "source": [
    "# Compute the maximum Sharpe ratio portfolio\n",
    "maxSRportfolio = maximiseSR(stockPrices, covMatrix)\n",
    "\n",
    "# Interrupt the program if the optimisation has failed\n",
    "if not maxSRportfolio.success: sys.exit('Program interrupted! Failed to compute the maximum Sharpe ratio portfolio!')\n",
    "\n",
    "# Weights of maximum Sharpe ratio portfolio\n",
    "maxSR_weights = np.array(maxSRportfolio.x)\n",
    "\n",
    "# Composition of maximum Sharpe ratio portfolio\n",
    "maxSRportfolio_df = pd.DataFrame(data=[maxSRportfolio.x], columns=covMatrix.columns).T\n",
    "maxSRportfolio_df = maxSRportfolio_df.sort_values(0, ascending=False)\n",
    "\n",
    "print('\\nOptimal portfolio composition to maximise the Sharpe ratio:\\n')\n",
    "for stock, weight in maxSRportfolio_df.iterrows(): print('\\t', stock, ':', round(100*weight[0],2), '%')\n",
    "\n",
    "# Calculate return & volatility of maximum Sharpe ratio portfolio\n",
    "maxSR_return = portfolioAnnualisedReturn(maxSR_weights, stockPrices)\n",
    "maxSR_std = portfolioAnnualisedVariance(maxSR_weights, covMatrix)\n",
    "maxSR_return, maxSR_std = round(maxSR_return*100,2), round(maxSR_std*100,2)"
   ]
  },
  {
   "cell_type": "code",
   "execution_count": 21,
   "metadata": {},
   "outputs": [],
   "source": [
    "# Compute the minimum volatility portfolio\n",
    "minVolPortfolio = minimizeVariance(stockPrices, covMatrix)\n",
    "\n",
    "# Interrupt the program if the optimisation has failed\n",
    "if not minVolPortfolio.success: sys.exit('Program interrupted! Failed to compute the minimum volatility portfolio!')\n",
    "\n",
    "# Weights of minimum volatility portfolio\n",
    "minVolPortfolio_weights = np.array(minVolPortfolio.x)\n",
    "\n",
    "# Calculate return & volatility of minimum volatility portfolio\n",
    "minVol_return = portfolioAnnualisedReturn(minVolPortfolio_weights, stockPrices)\n",
    "minVol_std = portfolioAnnualisedVariance(minVolPortfolio_weights, covMatrix)\n",
    "minVol_return, minVol_std = round(minVol_return*100,2), round(minVol_std*100,2)"
   ]
  },
  {
   "cell_type": "code",
   "execution_count": 22,
   "metadata": {},
   "outputs": [],
   "source": [
    "# Define list of target returns for efficient frontier\n",
    "frontierMinReturn = 0.5 * min(0, minVol_return - maxSR_return) / 100\n",
    "frontierMaxReturn = 2 * maxSR_return / 100\n",
    "targetReturns = np.linspace(frontierMinReturn, frontierMaxReturn, 20)\n",
    "\n",
    "# Calculate minimum volatility for each target return\n",
    "volatilityPerTargetReturn = []\n",
    "for returnTarget in targetReturns:\n",
    "    volatilityPerTargetReturn.append(efficientOpt(stockPrices, covMatrix, returnTarget)['fun'])\n",
    "\n",
    "# Trim the efficient frontier by removing the vertical parts\n",
    "volatilityPerTargetReturn, targetReturns = removeDuplicateEnds(volatilityPerTargetReturn, targetReturns)"
   ]
  },
  {
   "cell_type": "code",
   "execution_count": 23,
   "metadata": {},
   "outputs": [
    {
     "data": {
      "application/vnd.plotly.v1+json": {
       "config": {
        "plotlyServerURL": "https://plot.ly"
       },
       "data": [
        {
         "line": {
          "color": "black",
          "dash": "dot",
          "width": 3
         },
         "mode": "lines",
         "name": "Efficient Frontier",
         "type": "scatter",
         "x": [
          26.01,
          20.33,
          18.4,
          18.65,
          19.24,
          20.04,
          21.06,
          22.65,
          24.93,
          30.74
         ],
         "y": [
          0.66,
          11.02,
          21.38,
          31.73,
          42.09,
          52.44,
          62.8,
          73.16,
          83.51,
          93.87
         ]
        },
        {
         "marker": {
          "color": "red",
          "line": {
           "color": "black",
           "width": 3
          },
          "size": 14
         },
         "mode": "markers",
         "name": "Maximium Sharpe ratio",
         "type": "scatter",
         "x": [
          24.82
         ],
         "y": [
          83.18
         ]
        },
        {
         "marker": {
          "color": "green",
          "line": {
           "color": "black",
           "width": 3
          },
          "size": 14
         },
         "mode": "markers",
         "name": "Mininium Volatility",
         "type": "scatter",
         "x": [
          18.39
         ],
         "y": [
          22.37
         ]
        },
        {
         "marker": {
          "color": "#d1c7c7",
          "line": {
           "color": "#d1c7c7",
           "width": 1
          },
          "size": 9
         },
         "mode": "markers",
         "name": "A",
         "type": "scatter",
         "x": [
          28.02
         ],
         "y": [
          50.01
         ]
        },
        {
         "marker": {
          "color": "#d1c7c7",
          "line": {
           "color": "#d1c7c7",
           "width": 1
          },
          "size": 9
         },
         "mode": "markers",
         "name": "AAL",
         "type": "scatter",
         "x": [
          69.19
         ],
         "y": [
          -14.49
         ]
        },
        {
         "marker": {
          "color": "#d1c7c7",
          "line": {
           "color": "#d1c7c7",
           "width": 1
          },
          "size": 9
         },
         "mode": "markers",
         "name": "AAPL",
         "type": "scatter",
         "x": [
          34.14
         ],
         "y": [
          121.65
         ]
        },
        {
         "marker": {
          "color": "#d1c7c7",
          "line": {
           "color": "#d1c7c7",
           "width": 1
          },
          "size": 9
         },
         "mode": "markers",
         "name": "ABBV",
         "type": "scatter",
         "x": [
          28.02
         ],
         "y": [
          26
         ]
        },
        {
         "marker": {
          "color": "#d1c7c7",
          "line": {
           "color": "#d1c7c7",
           "width": 1
          },
          "size": 9
         },
         "mode": "markers",
         "name": "ABT",
         "type": "scatter",
         "x": [
          28.1
         ],
         "y": [
          37.58
         ]
        },
        {
         "marker": {
          "color": "#d1c7c7",
          "line": {
           "color": "#d1c7c7",
           "width": 1
          },
          "size": 9
         },
         "mode": "markers",
         "name": "ACGL",
         "type": "scatter",
         "x": [
          37.01
         ],
         "y": [
          23.09
         ]
        },
        {
         "marker": {
          "color": "#d1c7c7",
          "line": {
           "color": "#d1c7c7",
           "width": 1
          },
          "size": 9
         },
         "mode": "markers",
         "name": "ACN",
         "type": "scatter",
         "x": [
          28.39
         ],
         "y": [
          68.86
         ]
        },
        {
         "marker": {
          "color": "#d1c7c7",
          "line": {
           "color": "#d1c7c7",
           "width": 1
          },
          "size": 9
         },
         "mode": "markers",
         "name": "ADBE",
         "type": "scatter",
         "x": [
          35.26
         ],
         "y": [
          51.35
         ]
        },
        {
         "marker": {
          "color": "#d1c7c7",
          "line": {
           "color": "#d1c7c7",
           "width": 1
          },
          "size": 9
         },
         "mode": "markers",
         "name": "ADI",
         "type": "scatter",
         "x": [
          36.88
         ],
         "y": [
          38.47
         ]
        },
        {
         "marker": {
          "color": "#d1c7c7",
          "line": {
           "color": "#d1c7c7",
           "width": 1
          },
          "size": 9
         },
         "mode": "markers",
         "name": "ADM",
         "type": "scatter",
         "x": [
          28.53
         ],
         "y": [
          26.32
         ]
        },
        {
         "marker": {
          "color": "#d1c7c7",
          "line": {
           "color": "#d1c7c7",
           "width": 1
          },
          "size": 9
         },
         "mode": "markers",
         "name": "ADSK",
         "type": "scatter",
         "x": [
          39.06
         ],
         "y": [
          39.48
         ]
        },
        {
         "marker": {
          "color": "#d1c7c7",
          "line": {
           "color": "#d1c7c7",
           "width": 1
          },
          "size": 9
         },
         "mode": "markers",
         "name": "AEE",
         "type": "scatter",
         "x": [
          28.19
         ],
         "y": [
          17.17
         ]
        },
        {
         "marker": {
          "color": "#d1c7c7",
          "line": {
           "color": "#d1c7c7",
           "width": 1
          },
          "size": 9
         },
         "mode": "markers",
         "name": "AEP",
         "type": "scatter",
         "x": [
          25.43
         ],
         "y": [
          11.42
         ]
        },
        {
         "marker": {
          "color": "#d1c7c7",
          "line": {
           "color": "#d1c7c7",
           "width": 1
          },
          "size": 9
         },
         "mode": "markers",
         "name": "AES",
         "type": "scatter",
         "x": [
          39.35
         ],
         "y": [
          28.87
         ]
        },
        {
         "marker": {
          "color": "#d1c7c7",
          "line": {
           "color": "#d1c7c7",
           "width": 1
          },
          "size": 9
         },
         "mode": "markers",
         "name": "AFL",
         "type": "scatter",
         "x": [
          36.62
         ],
         "y": [
          12.78
         ]
        },
        {
         "marker": {
          "color": "#d1c7c7",
          "line": {
           "color": "#d1c7c7",
           "width": 1
          },
          "size": 9
         },
         "mode": "markers",
         "name": "AIG",
         "type": "scatter",
         "x": [
          46.45
         ],
         "y": [
          18.99
         ]
        },
        {
         "marker": {
          "color": "#d1c7c7",
          "line": {
           "color": "#d1c7c7",
           "width": 1
          },
          "size": 9
         },
         "mode": "markers",
         "name": "AIZ",
         "type": "scatter",
         "x": [
          32.19
         ],
         "y": [
          27.48
         ]
        },
        {
         "marker": {
          "color": "#d1c7c7",
          "line": {
           "color": "#d1c7c7",
           "width": 1
          },
          "size": 9
         },
         "mode": "markers",
         "name": "AJG",
         "type": "scatter",
         "x": [
          27.29
         ],
         "y": [
          48.94
         ]
        },
        {
         "marker": {
          "color": "#d1c7c7",
          "line": {
           "color": "#d1c7c7",
           "width": 1
          },
          "size": 9
         },
         "mode": "markers",
         "name": "AKAM",
         "type": "scatter",
         "x": [
          29.23
         ],
         "y": [
          32.84
         ]
        },
        {
         "marker": {
          "color": "#d1c7c7",
          "line": {
           "color": "#d1c7c7",
           "width": 1
          },
          "size": 9
         },
         "mode": "markers",
         "name": "ALB",
         "type": "scatter",
         "x": [
          48.52
         ],
         "y": [
          71.3
         ]
        },
        {
         "marker": {
          "color": "#d1c7c7",
          "line": {
           "color": "#d1c7c7",
           "width": 1
          },
          "size": 9
         },
         "mode": "markers",
         "name": "ALGN",
         "type": "scatter",
         "x": [
          53.85
         ],
         "y": [
          75.88
         ]
        },
        {
         "marker": {
          "color": "#d1c7c7",
          "line": {
           "color": "#d1c7c7",
           "width": 1
          },
          "size": 9
         },
         "mode": "markers",
         "name": "ALL",
         "type": "scatter",
         "x": [
          29.1
         ],
         "y": [
          18.07
         ]
        },
        {
         "marker": {
          "color": "#d1c7c7",
          "line": {
           "color": "#d1c7c7",
           "width": 1
          },
          "size": 9
         },
         "mode": "markers",
         "name": "ALLE",
         "type": "scatter",
         "x": [
          31.68
         ],
         "y": [
          22.62
         ]
        },
        {
         "marker": {
          "color": "#d1c7c7",
          "line": {
           "color": "#d1c7c7",
           "width": 1
          },
          "size": 9
         },
         "mode": "markers",
         "name": "AMAT",
         "type": "scatter",
         "x": [
          47.18
         ],
         "y": [
          130.15
         ]
        },
        {
         "marker": {
          "color": "#d1c7c7",
          "line": {
           "color": "#d1c7c7",
           "width": 1
          },
          "size": 9
         },
         "mode": "markers",
         "name": "AMCR",
         "type": "scatter",
         "x": [
          32.53
         ],
         "y": [
          15.87
         ]
        },
        {
         "marker": {
          "color": "#d1c7c7",
          "line": {
           "color": "#d1c7c7",
           "width": 1
          },
          "size": 9
         },
         "mode": "markers",
         "name": "AMD",
         "type": "scatter",
         "x": [
          53.06
         ],
         "y": [
          223.61
         ]
        },
        {
         "marker": {
          "color": "#d1c7c7",
          "line": {
           "color": "#d1c7c7",
           "width": 1
          },
          "size": 9
         },
         "mode": "markers",
         "name": "AME",
         "type": "scatter",
         "x": [
          30.76
         ],
         "y": [
          40.48
         ]
        },
        {
         "marker": {
          "color": "#d1c7c7",
          "line": {
           "color": "#d1c7c7",
           "width": 1
          },
          "size": 9
         },
         "mode": "markers",
         "name": "AMGN",
         "type": "scatter",
         "x": [
          27.72
         ],
         "y": [
          9.61
         ]
        },
        {
         "marker": {
          "color": "#d1c7c7",
          "line": {
           "color": "#d1c7c7",
           "width": 1
          },
          "size": 9
         },
         "mode": "markers",
         "name": "AMP",
         "type": "scatter",
         "x": [
          45.15
         ],
         "y": [
          66.74
         ]
        },
        {
         "marker": {
          "color": "#d1c7c7",
          "line": {
           "color": "#d1c7c7",
           "width": 1
          },
          "size": 9
         },
         "mode": "markers",
         "name": "AMT",
         "type": "scatter",
         "x": [
          29.84
         ],
         "y": [
          32.15
         ]
        },
        {
         "marker": {
          "color": "#d1c7c7",
          "line": {
           "color": "#d1c7c7",
           "width": 1
          },
          "size": 9
         },
         "mode": "markers",
         "name": "AMZN",
         "type": "scatter",
         "x": [
          29.39
         ],
         "y": [
          39.71
         ]
        },
        {
         "marker": {
          "color": "#d1c7c7",
          "line": {
           "color": "#d1c7c7",
           "width": 1
          },
          "size": 9
         },
         "mode": "markers",
         "name": "ANET",
         "type": "scatter",
         "x": [
          42.35
         ],
         "y": [
          57.32
         ]
        },
        {
         "marker": {
          "color": "#d1c7c7",
          "line": {
           "color": "#d1c7c7",
           "width": 1
          },
          "size": 9
         },
         "mode": "markers",
         "name": "ANSS",
         "type": "scatter",
         "x": [
          34.95
         ],
         "y": [
          61.22
         ]
        },
        {
         "marker": {
          "color": "#d1c7c7",
          "line": {
           "color": "#d1c7c7",
           "width": 1
          },
          "size": 9
         },
         "mode": "markers",
         "name": "AON",
         "type": "scatter",
         "x": [
          28.78
         ],
         "y": [
          37.93
         ]
        },
        {
         "marker": {
          "color": "#d1c7c7",
          "line": {
           "color": "#d1c7c7",
           "width": 1
          },
          "size": 9
         },
         "mode": "markers",
         "name": "AOS",
         "type": "scatter",
         "x": [
          30.91
         ],
         "y": [
          35.83
         ]
        },
        {
         "marker": {
          "color": "#d1c7c7",
          "line": {
           "color": "#d1c7c7",
           "width": 1
          },
          "size": 9
         },
         "mode": "markers",
         "name": "APA",
         "type": "scatter",
         "x": [
          82.97
         ],
         "y": [
          1.94
         ]
        },
        {
         "marker": {
          "color": "#d1c7c7",
          "line": {
           "color": "#d1c7c7",
           "width": 1
          },
          "size": 9
         },
         "mode": "markers",
         "name": "APD",
         "type": "scatter",
         "x": [
          30.13
         ],
         "y": [
          34.03
         ]
        },
        {
         "marker": {
          "color": "#d1c7c7",
          "line": {
           "color": "#d1c7c7",
           "width": 1
          },
          "size": 9
         },
         "mode": "markers",
         "name": "APH",
         "type": "scatter",
         "x": [
          29.23
         ],
         "y": [
          41.52
         ]
        },
        {
         "marker": {
          "color": "#d1c7c7",
          "line": {
           "color": "#d1c7c7",
           "width": 1
          },
          "size": 9
         },
         "mode": "markers",
         "name": "APTV",
         "type": "scatter",
         "x": [
          49.06
         ],
         "y": [
          56.77
         ]
        },
        {
         "marker": {
          "color": "#d1c7c7",
          "line": {
           "color": "#d1c7c7",
           "width": 1
          },
          "size": 9
         },
         "mode": "markers",
         "name": "ARE",
         "type": "scatter",
         "x": [
          27.94
         ],
         "y": [
          38.81
         ]
        },
        {
         "marker": {
          "color": "#d1c7c7",
          "line": {
           "color": "#d1c7c7",
           "width": 1
          },
          "size": 9
         },
         "mode": "markers",
         "name": "ATO",
         "type": "scatter",
         "x": [
          27.78
         ],
         "y": [
          8.23
         ]
        },
        {
         "marker": {
          "color": "#d1c7c7",
          "line": {
           "color": "#d1c7c7",
           "width": 1
          },
          "size": 9
         },
         "mode": "markers",
         "name": "AWK",
         "type": "scatter",
         "x": [
          28.76
         ],
         "y": [
          40.72
         ]
        },
        {
         "marker": {
          "color": "#d1c7c7",
          "line": {
           "color": "#d1c7c7",
           "width": 1
          },
          "size": 9
         },
         "mode": "markers",
         "name": "AXP",
         "type": "scatter",
         "x": [
          41.63
         ],
         "y": [
          26.42
         ]
        },
        {
         "marker": {
          "color": "#d1c7c7",
          "line": {
           "color": "#d1c7c7",
           "width": 1
          },
          "size": 9
         },
         "mode": "markers",
         "name": "GOOG",
         "type": "scatter",
         "x": [
          29.53
         ],
         "y": [
          59.73
         ]
        },
        {
         "marker": {
          "color": "#d1c7c7",
          "line": {
           "color": "#d1c7c7",
           "width": 1
          },
          "size": 9
         },
         "mode": "markers",
         "name": "GOOGL",
         "type": "scatter",
         "x": [
          29.63
         ],
         "y": [
          59.08
         ]
        },
        {
         "marker": {
          "color": "#d1c7c7",
          "line": {
           "color": "#d1c7c7",
           "width": 1
          },
          "size": 9
         },
         "mode": "markers",
         "name": "LNT",
         "type": "scatter",
         "x": [
          26.03
         ],
         "y": [
          20.98
         ]
        },
        {
         "marker": {
          "color": "#d1c7c7",
          "line": {
           "color": "#d1c7c7",
           "width": 1
          },
          "size": 9
         },
         "mode": "markers",
         "name": "MMM",
         "type": "scatter",
         "x": [
          28.11
         ],
         "y": [
          0.97
         ]
        },
        {
         "marker": {
          "color": "#d1c7c7",
          "line": {
           "color": "#d1c7c7",
           "width": 1
          },
          "size": 9
         },
         "mode": "markers",
         "name": "MO",
         "type": "scatter",
         "x": [
          28.13
         ],
         "y": [
          6.71
         ]
        },
        {
         "marker": {
          "color": "#d1c7c7",
          "line": {
           "color": "#d1c7c7",
           "width": 1
          },
          "size": 9
         },
         "mode": "markers",
         "name": "T",
         "type": "scatter",
         "x": [
          25.58
         ],
         "y": [
          3.09
         ]
        }
       ],
       "layout": {
        "height": 600,
        "legend": {
         "bgcolor": "#E2E2E2",
         "bordercolor": "black",
         "borderwidth": 2,
         "traceorder": "normal",
         "x": 0.75,
         "y": 0
        },
        "showlegend": true,
        "template": {
         "data": {
          "bar": [
           {
            "error_x": {
             "color": "#2a3f5f"
            },
            "error_y": {
             "color": "#2a3f5f"
            },
            "marker": {
             "line": {
              "color": "#E5ECF6",
              "width": 0.5
             },
             "pattern": {
              "fillmode": "overlay",
              "size": 10,
              "solidity": 0.2
             }
            },
            "type": "bar"
           }
          ],
          "barpolar": [
           {
            "marker": {
             "line": {
              "color": "#E5ECF6",
              "width": 0.5
             },
             "pattern": {
              "fillmode": "overlay",
              "size": 10,
              "solidity": 0.2
             }
            },
            "type": "barpolar"
           }
          ],
          "carpet": [
           {
            "aaxis": {
             "endlinecolor": "#2a3f5f",
             "gridcolor": "white",
             "linecolor": "white",
             "minorgridcolor": "white",
             "startlinecolor": "#2a3f5f"
            },
            "baxis": {
             "endlinecolor": "#2a3f5f",
             "gridcolor": "white",
             "linecolor": "white",
             "minorgridcolor": "white",
             "startlinecolor": "#2a3f5f"
            },
            "type": "carpet"
           }
          ],
          "choropleth": [
           {
            "colorbar": {
             "outlinewidth": 0,
             "ticks": ""
            },
            "type": "choropleth"
           }
          ],
          "contour": [
           {
            "colorbar": {
             "outlinewidth": 0,
             "ticks": ""
            },
            "colorscale": [
             [
              0,
              "#0d0887"
             ],
             [
              0.1111111111111111,
              "#46039f"
             ],
             [
              0.2222222222222222,
              "#7201a8"
             ],
             [
              0.3333333333333333,
              "#9c179e"
             ],
             [
              0.4444444444444444,
              "#bd3786"
             ],
             [
              0.5555555555555556,
              "#d8576b"
             ],
             [
              0.6666666666666666,
              "#ed7953"
             ],
             [
              0.7777777777777778,
              "#fb9f3a"
             ],
             [
              0.8888888888888888,
              "#fdca26"
             ],
             [
              1,
              "#f0f921"
             ]
            ],
            "type": "contour"
           }
          ],
          "contourcarpet": [
           {
            "colorbar": {
             "outlinewidth": 0,
             "ticks": ""
            },
            "type": "contourcarpet"
           }
          ],
          "heatmap": [
           {
            "colorbar": {
             "outlinewidth": 0,
             "ticks": ""
            },
            "colorscale": [
             [
              0,
              "#0d0887"
             ],
             [
              0.1111111111111111,
              "#46039f"
             ],
             [
              0.2222222222222222,
              "#7201a8"
             ],
             [
              0.3333333333333333,
              "#9c179e"
             ],
             [
              0.4444444444444444,
              "#bd3786"
             ],
             [
              0.5555555555555556,
              "#d8576b"
             ],
             [
              0.6666666666666666,
              "#ed7953"
             ],
             [
              0.7777777777777778,
              "#fb9f3a"
             ],
             [
              0.8888888888888888,
              "#fdca26"
             ],
             [
              1,
              "#f0f921"
             ]
            ],
            "type": "heatmap"
           }
          ],
          "heatmapgl": [
           {
            "colorbar": {
             "outlinewidth": 0,
             "ticks": ""
            },
            "colorscale": [
             [
              0,
              "#0d0887"
             ],
             [
              0.1111111111111111,
              "#46039f"
             ],
             [
              0.2222222222222222,
              "#7201a8"
             ],
             [
              0.3333333333333333,
              "#9c179e"
             ],
             [
              0.4444444444444444,
              "#bd3786"
             ],
             [
              0.5555555555555556,
              "#d8576b"
             ],
             [
              0.6666666666666666,
              "#ed7953"
             ],
             [
              0.7777777777777778,
              "#fb9f3a"
             ],
             [
              0.8888888888888888,
              "#fdca26"
             ],
             [
              1,
              "#f0f921"
             ]
            ],
            "type": "heatmapgl"
           }
          ],
          "histogram": [
           {
            "marker": {
             "pattern": {
              "fillmode": "overlay",
              "size": 10,
              "solidity": 0.2
             }
            },
            "type": "histogram"
           }
          ],
          "histogram2d": [
           {
            "colorbar": {
             "outlinewidth": 0,
             "ticks": ""
            },
            "colorscale": [
             [
              0,
              "#0d0887"
             ],
             [
              0.1111111111111111,
              "#46039f"
             ],
             [
              0.2222222222222222,
              "#7201a8"
             ],
             [
              0.3333333333333333,
              "#9c179e"
             ],
             [
              0.4444444444444444,
              "#bd3786"
             ],
             [
              0.5555555555555556,
              "#d8576b"
             ],
             [
              0.6666666666666666,
              "#ed7953"
             ],
             [
              0.7777777777777778,
              "#fb9f3a"
             ],
             [
              0.8888888888888888,
              "#fdca26"
             ],
             [
              1,
              "#f0f921"
             ]
            ],
            "type": "histogram2d"
           }
          ],
          "histogram2dcontour": [
           {
            "colorbar": {
             "outlinewidth": 0,
             "ticks": ""
            },
            "colorscale": [
             [
              0,
              "#0d0887"
             ],
             [
              0.1111111111111111,
              "#46039f"
             ],
             [
              0.2222222222222222,
              "#7201a8"
             ],
             [
              0.3333333333333333,
              "#9c179e"
             ],
             [
              0.4444444444444444,
              "#bd3786"
             ],
             [
              0.5555555555555556,
              "#d8576b"
             ],
             [
              0.6666666666666666,
              "#ed7953"
             ],
             [
              0.7777777777777778,
              "#fb9f3a"
             ],
             [
              0.8888888888888888,
              "#fdca26"
             ],
             [
              1,
              "#f0f921"
             ]
            ],
            "type": "histogram2dcontour"
           }
          ],
          "mesh3d": [
           {
            "colorbar": {
             "outlinewidth": 0,
             "ticks": ""
            },
            "type": "mesh3d"
           }
          ],
          "parcoords": [
           {
            "line": {
             "colorbar": {
              "outlinewidth": 0,
              "ticks": ""
             }
            },
            "type": "parcoords"
           }
          ],
          "pie": [
           {
            "automargin": true,
            "type": "pie"
           }
          ],
          "scatter": [
           {
            "fillpattern": {
             "fillmode": "overlay",
             "size": 10,
             "solidity": 0.2
            },
            "type": "scatter"
           }
          ],
          "scatter3d": [
           {
            "line": {
             "colorbar": {
              "outlinewidth": 0,
              "ticks": ""
             }
            },
            "marker": {
             "colorbar": {
              "outlinewidth": 0,
              "ticks": ""
             }
            },
            "type": "scatter3d"
           }
          ],
          "scattercarpet": [
           {
            "marker": {
             "colorbar": {
              "outlinewidth": 0,
              "ticks": ""
             }
            },
            "type": "scattercarpet"
           }
          ],
          "scattergeo": [
           {
            "marker": {
             "colorbar": {
              "outlinewidth": 0,
              "ticks": ""
             }
            },
            "type": "scattergeo"
           }
          ],
          "scattergl": [
           {
            "marker": {
             "colorbar": {
              "outlinewidth": 0,
              "ticks": ""
             }
            },
            "type": "scattergl"
           }
          ],
          "scattermapbox": [
           {
            "marker": {
             "colorbar": {
              "outlinewidth": 0,
              "ticks": ""
             }
            },
            "type": "scattermapbox"
           }
          ],
          "scatterpolar": [
           {
            "marker": {
             "colorbar": {
              "outlinewidth": 0,
              "ticks": ""
             }
            },
            "type": "scatterpolar"
           }
          ],
          "scatterpolargl": [
           {
            "marker": {
             "colorbar": {
              "outlinewidth": 0,
              "ticks": ""
             }
            },
            "type": "scatterpolargl"
           }
          ],
          "scatterternary": [
           {
            "marker": {
             "colorbar": {
              "outlinewidth": 0,
              "ticks": ""
             }
            },
            "type": "scatterternary"
           }
          ],
          "surface": [
           {
            "colorbar": {
             "outlinewidth": 0,
             "ticks": ""
            },
            "colorscale": [
             [
              0,
              "#0d0887"
             ],
             [
              0.1111111111111111,
              "#46039f"
             ],
             [
              0.2222222222222222,
              "#7201a8"
             ],
             [
              0.3333333333333333,
              "#9c179e"
             ],
             [
              0.4444444444444444,
              "#bd3786"
             ],
             [
              0.5555555555555556,
              "#d8576b"
             ],
             [
              0.6666666666666666,
              "#ed7953"
             ],
             [
              0.7777777777777778,
              "#fb9f3a"
             ],
             [
              0.8888888888888888,
              "#fdca26"
             ],
             [
              1,
              "#f0f921"
             ]
            ],
            "type": "surface"
           }
          ],
          "table": [
           {
            "cells": {
             "fill": {
              "color": "#EBF0F8"
             },
             "line": {
              "color": "white"
             }
            },
            "header": {
             "fill": {
              "color": "#C8D4E3"
             },
             "line": {
              "color": "white"
             }
            },
            "type": "table"
           }
          ]
         },
         "layout": {
          "annotationdefaults": {
           "arrowcolor": "#2a3f5f",
           "arrowhead": 0,
           "arrowwidth": 1
          },
          "autotypenumbers": "strict",
          "coloraxis": {
           "colorbar": {
            "outlinewidth": 0,
            "ticks": ""
           }
          },
          "colorscale": {
           "diverging": [
            [
             0,
             "#8e0152"
            ],
            [
             0.1,
             "#c51b7d"
            ],
            [
             0.2,
             "#de77ae"
            ],
            [
             0.3,
             "#f1b6da"
            ],
            [
             0.4,
             "#fde0ef"
            ],
            [
             0.5,
             "#f7f7f7"
            ],
            [
             0.6,
             "#e6f5d0"
            ],
            [
             0.7,
             "#b8e186"
            ],
            [
             0.8,
             "#7fbc41"
            ],
            [
             0.9,
             "#4d9221"
            ],
            [
             1,
             "#276419"
            ]
           ],
           "sequential": [
            [
             0,
             "#0d0887"
            ],
            [
             0.1111111111111111,
             "#46039f"
            ],
            [
             0.2222222222222222,
             "#7201a8"
            ],
            [
             0.3333333333333333,
             "#9c179e"
            ],
            [
             0.4444444444444444,
             "#bd3786"
            ],
            [
             0.5555555555555556,
             "#d8576b"
            ],
            [
             0.6666666666666666,
             "#ed7953"
            ],
            [
             0.7777777777777778,
             "#fb9f3a"
            ],
            [
             0.8888888888888888,
             "#fdca26"
            ],
            [
             1,
             "#f0f921"
            ]
           ],
           "sequentialminus": [
            [
             0,
             "#0d0887"
            ],
            [
             0.1111111111111111,
             "#46039f"
            ],
            [
             0.2222222222222222,
             "#7201a8"
            ],
            [
             0.3333333333333333,
             "#9c179e"
            ],
            [
             0.4444444444444444,
             "#bd3786"
            ],
            [
             0.5555555555555556,
             "#d8576b"
            ],
            [
             0.6666666666666666,
             "#ed7953"
            ],
            [
             0.7777777777777778,
             "#fb9f3a"
            ],
            [
             0.8888888888888888,
             "#fdca26"
            ],
            [
             1,
             "#f0f921"
            ]
           ]
          },
          "colorway": [
           "#636efa",
           "#EF553B",
           "#00cc96",
           "#ab63fa",
           "#FFA15A",
           "#19d3f3",
           "#FF6692",
           "#B6E880",
           "#FF97FF",
           "#FECB52"
          ],
          "font": {
           "color": "#2a3f5f"
          },
          "geo": {
           "bgcolor": "white",
           "lakecolor": "white",
           "landcolor": "#E5ECF6",
           "showlakes": true,
           "showland": true,
           "subunitcolor": "white"
          },
          "hoverlabel": {
           "align": "left"
          },
          "hovermode": "closest",
          "mapbox": {
           "style": "light"
          },
          "paper_bgcolor": "white",
          "plot_bgcolor": "#E5ECF6",
          "polar": {
           "angularaxis": {
            "gridcolor": "white",
            "linecolor": "white",
            "ticks": ""
           },
           "bgcolor": "#E5ECF6",
           "radialaxis": {
            "gridcolor": "white",
            "linecolor": "white",
            "ticks": ""
           }
          },
          "scene": {
           "xaxis": {
            "backgroundcolor": "#E5ECF6",
            "gridcolor": "white",
            "gridwidth": 2,
            "linecolor": "white",
            "showbackground": true,
            "ticks": "",
            "zerolinecolor": "white"
           },
           "yaxis": {
            "backgroundcolor": "#E5ECF6",
            "gridcolor": "white",
            "gridwidth": 2,
            "linecolor": "white",
            "showbackground": true,
            "ticks": "",
            "zerolinecolor": "white"
           },
           "zaxis": {
            "backgroundcolor": "#E5ECF6",
            "gridcolor": "white",
            "gridwidth": 2,
            "linecolor": "white",
            "showbackground": true,
            "ticks": "",
            "zerolinecolor": "white"
           }
          },
          "shapedefaults": {
           "line": {
            "color": "#2a3f5f"
           }
          },
          "ternary": {
           "aaxis": {
            "gridcolor": "white",
            "linecolor": "white",
            "ticks": ""
           },
           "baxis": {
            "gridcolor": "white",
            "linecolor": "white",
            "ticks": ""
           },
           "bgcolor": "#E5ECF6",
           "caxis": {
            "gridcolor": "white",
            "linecolor": "white",
            "ticks": ""
           }
          },
          "title": {
           "x": 0.05
          },
          "xaxis": {
           "automargin": true,
           "gridcolor": "white",
           "linecolor": "white",
           "ticks": "",
           "title": {
            "standoff": 15
           },
           "zerolinecolor": "white",
           "zerolinewidth": 2
          },
          "yaxis": {
           "automargin": true,
           "gridcolor": "white",
           "linecolor": "white",
           "ticks": "",
           "title": {
            "standoff": 15
           },
           "zerolinecolor": "white",
           "zerolinewidth": 2
          }
         }
        },
        "title": {
         "text": "Portfolio Optimisation - Efficient Frontier, 49 stocks, (2019-01-01 to 2021-12-31)"
        },
        "width": 1400,
        "xaxis": {
         "title": {
          "text": "Annualised Daily Volatility (in trading days) (%)"
         }
        },
        "yaxis": {
         "title": {
          "text": "Annualised Return (%)"
         }
        }
       }
      }
     },
     "metadata": {},
     "output_type": "display_data"
    }
   ],
   "source": [
    "# Plot efficient frontier\n",
    "efficientFrontierGraph(\n",
    "    maxSR_return, maxSR_std, \n",
    "    minVol_return, minVol_std, \n",
    "    volatilityPerTargetReturn, targetReturns,\n",
    "    stocksReturns, stocksStd\n",
    ")"
   ]
  },
  {
   "cell_type": "code",
   "execution_count": null,
   "metadata": {},
   "outputs": [],
   "source": []
  }
 ],
 "metadata": {
  "kernelspec": {
   "display_name": "base",
   "language": "python",
   "name": "python3"
  },
  "language_info": {
   "codemirror_mode": {
    "name": "ipython",
    "version": 3
   },
   "file_extension": ".py",
   "mimetype": "text/x-python",
   "name": "python",
   "nbconvert_exporter": "python",
   "pygments_lexer": "ipython3",
   "version": "3.10.9"
  }
 },
 "nbformat": 4,
 "nbformat_minor": 2
}
